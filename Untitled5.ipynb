{
  "nbformat": 4,
  "nbformat_minor": 0,
  "metadata": {
    "colab": {
      "provenance": [],
      "authorship_tag": "ABX9TyNaDITjCy7T04LGFQfEPQN1",
      "include_colab_link": true
    },
    "kernelspec": {
      "name": "python3",
      "display_name": "Python 3"
    },
    "language_info": {
      "name": "python"
    }
  },
  "cells": [
    {
      "cell_type": "markdown",
      "metadata": {
        "id": "view-in-github",
        "colab_type": "text"
      },
      "source": [
        "<a href=\"https://colab.research.google.com/github/Merlim-Canadense/Meu_Projeto_IA/blob/main/Untitled5.ipynb\" target=\"_parent\"><img src=\"https://colab.research.google.com/assets/colab-badge.svg\" alt=\"Open In Colab\"/></a>"
      ]
    },
    {
      "cell_type": "code",
      "execution_count": 16,
      "metadata": {
        "id": "hIbPkptJTYm0"
      },
      "outputs": [],
      "source": [
        "\"\"\"At the command line, only need to run once to install the package via pip:$ pip install google-generativeai\"\"\"\n",
        "from pathlib import Path\n",
        "import hashlib\n",
        "import google.generativeai as genai\n",
        "from google.colab import userdata\n",
        "userdata.get('secretName')\n",
        "\n",
        "genai.configure(api_key=\"secretName\")  # Substitua YOUR_API_KEY pela sua chave\n",
        "\n",
        "# Set up the model\n",
        "generation_config = {\n",
        "    \"temperature\": 1,\n",
        "    \"top_p\": 0.95,\n",
        "    \"top_k\": 0,\n",
        "    \"max_output_tokens\": 8192,\n",
        "}\n",
        "safety_settings = [\n",
        "    {\n",
        "        \"category\": \"HARM_CATEGORY_HARASSMENT\",\n",
        "        \"threshold\": \"BLOCK_MEDIUM_AND_ABOVE\"\n",
        "    },\n",
        "    {\n",
        "        \"category\": \"HARM_CATEGORY_HATE_SPEECH\",\n",
        "        \"threshold\": \"BLOCK_MEDIUM_AND_ABOVE\"\n",
        "    },\n",
        "    {\n",
        "        \"category\": \"HARM_CATEGORY_SEXUALLY_EXPLICIT\",\n",
        "        \"threshold\": \"BLOCK_MEDIUM_AND_ABOVE\"\n",
        "    },\n",
        "    {\n",
        "        \"category\": \"HARM_CATEGORY_DANGEROUS_CONTENT\",\n",
        "        \"threshold\": \"BLOCK_MEDIUM_AND_ABOVE\"\n",
        "    },\n",
        "]\n",
        "system_instruction = \"Aja como um recrutador\"\n",
        "model = genai.GenerativeModel(\n",
        "    model_name=\"gemini-1.5-pro-latest\",\n",
        "    generation_config=generation_config,\n",
        "    system_instruction=system_instruction,\n",
        "    safety_settings=safety_settings\n",
        ")\n",
        "\n",
        "def extract_video_frames(pathname: str) -> list:\n",
        "    # See https://github.com/google-gemini/cookbook/blob/main/quickstarts/Video.ipynb\n",
        "    return []\n",
        "\n",
        "# Obtém o caminho absoluto do arquivo\n",
        "caminho_requisitos = Path(\"C:\\\\Users\\\\leand\\\\Desktop\\\\requisitos_vaga.png\").resolve()\n",
        "\n",
        "# Define o caminho do vídeo do candidato\n",
        "caminho_video_candidato = Path(\"path/to/your/video.mp4\").resolve() # Substitua pelo caminho real do vídeo\n",
        "\n",
        "# Extrai os frames do vídeo\n",
        "video_frames = extract_video_frames(str(caminho_video_candidato))\n",
        "\n",
        "convo = model.start_chat(history=[\n",
        "    {\n",
        "        \"role\": \"user\",\n",
        "        \"parts\": [\"Esse é o video do candidato inserido via input:\\n\"]\n",
        "    },\n",
        "    {\n",
        "        \"role\": \"user\",\n",
        "        \"parts\": video_frames  # Passa os frames extraídos para o modelo\n",
        "    },\n",
        "])\n"
      ]
    }
  ]
}